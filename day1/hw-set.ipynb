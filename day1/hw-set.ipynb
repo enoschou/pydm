{
 "cells": [
  {
   "cell_type": "markdown",
   "id": "f0106e6a",
   "metadata": {},
   "source": [
    "# Homework Set\n",
    "\n",
    "\n",
    "## Tech\n",
    "set<br>\n",
    "\n",
    "## 研究 set 集合特性\n",
    "<tt>\n",
    "x = {3, 7, 9, 111, 3, 5, 6, 12, 22.1, 9, 3}<br>\n",
    "y = {2, 5, 8, 9, 22.0}\n",
    "</tt>\n",
    "\n",
    "a. 分別印出 x, y<br>\n",
    "b. 於 x 增加一個 element 'abc'，並印出 x<br>\n",
    "c. 印出 x 與 y 的交集<br>\n",
    "d. 印出 x 與 y 的聯集<br>\n",
    "e. x 中移除 9，並印出 x<br>"
   ]
  },
  {
   "cell_type": "code",
   "execution_count": null,
   "id": "a0629c34",
   "metadata": {},
   "outputs": [],
   "source": [
    "x = {3, 7, 9, 111, 3, 5, 6, 12, 22.1, 9, 3}\n",
    "y = {2, 5, 8, 9, 22.0}"
   ]
  },
  {
   "cell_type": "markdown",
   "id": "94021c08",
   "metadata": {},
   "source": [
    "### a. 分別印出 x, y"
   ]
  },
  {
   "cell_type": "code",
   "execution_count": null,
   "id": "bcdd7401",
   "metadata": {},
   "outputs": [],
   "source": []
  },
  {
   "cell_type": "markdown",
   "id": "91f05370",
   "metadata": {},
   "source": [
    "### b. 於 x 增加一個 element 'abc'，並印出 x"
   ]
  },
  {
   "cell_type": "code",
   "execution_count": null,
   "id": "e2539f53",
   "metadata": {},
   "outputs": [],
   "source": []
  },
  {
   "cell_type": "markdown",
   "id": "51ce43e7",
   "metadata": {},
   "source": [
    "### c. 印出 x 與 y 的交集"
   ]
  },
  {
   "cell_type": "code",
   "execution_count": null,
   "id": "c6055477",
   "metadata": {},
   "outputs": [],
   "source": []
  },
  {
   "cell_type": "markdown",
   "id": "8f2c038c",
   "metadata": {},
   "source": [
    "### d. 印出 x 與 y 的聯集"
   ]
  },
  {
   "cell_type": "code",
   "execution_count": null,
   "id": "2e3901c5",
   "metadata": {},
   "outputs": [],
   "source": []
  },
  {
   "cell_type": "markdown",
   "id": "da2d0027",
   "metadata": {},
   "source": [
    "### e. x 中移除 9，並印出 x"
   ]
  },
  {
   "cell_type": "code",
   "execution_count": null,
   "id": "9cb8e400",
   "metadata": {},
   "outputs": [],
   "source": []
  }
 ],
 "metadata": {
  "kernelspec": {
   "display_name": "Python 3 (ipykernel)",
   "language": "python",
   "name": "python3"
  },
  "language_info": {
   "codemirror_mode": {
    "name": "ipython",
    "version": 3
   },
   "file_extension": ".py",
   "mimetype": "text/x-python",
   "name": "python",
   "nbconvert_exporter": "python",
   "pygments_lexer": "ipython3",
   "version": "3.7.13"
  }
 },
 "nbformat": 4,
 "nbformat_minor": 5
}
