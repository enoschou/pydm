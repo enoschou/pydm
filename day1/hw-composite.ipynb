{
 "cells": [
  {
   "cell_type": "markdown",
   "id": "82909980",
   "metadata": {},
   "source": [
    "# Homework Composite Data Structure\n",
    "\n",
    "## Tech\n",
    "a. Composite dict & list<br>\n",
    "b. f-string<br>\n",
    "\n",
    "## Tasks\n",
    "\n",
    "a. 以 dict 儲存下列 10 位學生資料，並印出 Bill 的身高體重<br>\n",
    "<tt><font color='blue'>Bill's height: 168cm, weight:70kg</font></tt>\n",
    "\n",
    "b. 依姓名、身高、體重各以一個 list 儲存下列 10 位學生資料，並印出 Larry 的身高體重<br>\n",
    "<tt><font color='blue'>\n",
    "n = ['David', 'John', …]<br>\n",
    "h = [180, 172, …]<br>\n",
    "w = [85, 72, …]<br>\n",
    "Larry's height: 160cm, weight:64kg\n",
    "</font></tt>\n",
    "\n",
    "## Data\n",
    "<br>\n",
    "<tt>\n",
    "David&nbsp;&nbsp;&nbsp;&nbsp;180cm 85kg<br>\n",
    "John&nbsp;&nbsp;&nbsp;&nbsp;&nbsp;172cm 72kg<br>\n",
    "Mary&nbsp;&nbsp;&nbsp;&nbsp;&nbsp;158cm 51kg<br>\n",
    "Lora&nbsp;&nbsp;&nbsp;&nbsp;&nbsp;160cm 49kg<br>\n",
    "Bill&nbsp;&nbsp;&nbsp;&nbsp;&nbsp;168cm 70kg<br>\n",
    "Elsa&nbsp;&nbsp;&nbsp;&nbsp;&nbsp;154cm 55kg<br>\n",
    "Golden&nbsp;&nbsp;&nbsp;176cm 69kg<br>\n",
    "Jason&nbsp;&nbsp;&nbsp;&nbsp;182cm 77kg<br>\n",
    "Larry&nbsp;&nbsp;&nbsp;&nbsp;160cm 64kg<br>\n",
    "Michelle 155cm 57kg<br>\n",
    "</tt>"
   ]
  },
  {
   "cell_type": "markdown",
   "id": "4114dfb0",
   "metadata": {},
   "source": [
    "### a. 以 dict 儲存下列 10 位學生資料，並印出 Bill 的身高體重\n",
    "<tt><font color='blue'>Bill's height: 168cm, weight:70kg</font></tt>"
   ]
  },
  {
   "cell_type": "code",
   "execution_count": null,
   "id": "7e67f445",
   "metadata": {},
   "outputs": [],
   "source": []
  },
  {
   "cell_type": "markdown",
   "id": "d0fcabf4",
   "metadata": {},
   "source": [
    "### b. 依姓名、身高、體重各以一個 list 儲存下列 10 位學生資料，並印出 Larry 的身高體重\n",
    "<tt><font color='blue'>\n",
    "n = ['David', 'John', …]<br>\n",
    "h = [180, 172, …]<br>\n",
    "w = [85, 72, …]<br>\n",
    "Larry's height: 160cm, weight:64kg\n",
    "</font></tt>"
   ]
  },
  {
   "cell_type": "code",
   "execution_count": null,
   "id": "d1716be9",
   "metadata": {},
   "outputs": [],
   "source": []
  }
 ],
 "metadata": {
  "kernelspec": {
   "display_name": "Python 3 (ipykernel)",
   "language": "python",
   "name": "python3"
  },
  "language_info": {
   "codemirror_mode": {
    "name": "ipython",
    "version": 3
   },
   "file_extension": ".py",
   "mimetype": "text/x-python",
   "name": "python",
   "nbconvert_exporter": "python",
   "pygments_lexer": "ipython3",
   "version": "3.8.10"
  }
 },
 "nbformat": 4,
 "nbformat_minor": 5
}
