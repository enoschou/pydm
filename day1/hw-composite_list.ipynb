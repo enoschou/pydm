{
 "cells": [
  {
   "cell_type": "markdown",
   "id": "82909980",
   "metadata": {},
   "source": [
    "# Homework Composite Data Structure of List\n",
    "\n",
    "## Tech\n",
    "Composite list<br>\n",
    "\n",
    "## Tasks\n",
    "\n",
    "設計以 list 為主的變數 (資料結構) 以儲存下列 10 位學生的身高體重資料，並能夠藉由 \"Larry\" 查詢到他的身高體重<br>\n",
    "p.s. 可忽略單位<br>\n",
    "\n",
    "## Data\n",
    "<tt>\n",
    "David&nbsp;&nbsp;&nbsp;&nbsp;180cm 85kg<br>\n",
    "John&nbsp;&nbsp;&nbsp;&nbsp;&nbsp;172cm 72kg<br>\n",
    "Mary&nbsp;&nbsp;&nbsp;&nbsp;&nbsp;158cm 51kg<br>\n",
    "Lora&nbsp;&nbsp;&nbsp;&nbsp;&nbsp;160cm 49kg<br>\n",
    "Bill&nbsp;&nbsp;&nbsp;&nbsp;&nbsp;168cm 70kg<br>\n",
    "Elsa&nbsp;&nbsp;&nbsp;&nbsp;&nbsp;154cm 55kg<br>\n",
    "Golden&nbsp;&nbsp;&nbsp;176cm 69kg<br>\n",
    "Jason&nbsp;&nbsp;&nbsp;&nbsp;182cm 77kg<br>\n",
    "Larry&nbsp;&nbsp;&nbsp;&nbsp;160cm 64kg<br>\n",
    "Michelle 155cm 57kg<br>\n",
    "</tt>"
   ]
  },
  {
   "cell_type": "code",
   "execution_count": null,
   "id": "d1716be9",
   "metadata": {},
   "outputs": [],
   "source": []
  }
 ],
 "metadata": {
  "kernelspec": {
   "display_name": "Python 3 (ipykernel)",
   "language": "python",
   "name": "python3"
  },
  "language_info": {
   "codemirror_mode": {
    "name": "ipython",
    "version": 3
   },
   "file_extension": ".py",
   "mimetype": "text/x-python",
   "name": "python",
   "nbconvert_exporter": "python",
   "pygments_lexer": "ipython3",
   "version": "3.8.10"
  }
 },
 "nbformat": 4,
 "nbformat_minor": 5
}
