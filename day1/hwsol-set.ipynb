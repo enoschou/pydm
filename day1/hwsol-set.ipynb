{
 "cells": [
  {
   "cell_type": "markdown",
   "id": "8ccb28cc",
   "metadata": {},
   "source": [
    "# Homework Set\n",
    "\n",
    "## Tech\n",
    "set<br>\n",
    "\n",
    "## 研究 set 集合特性\n",
    "<tt>\n",
    "x = {3, 7, 9, 111, 3, 5, 6, 12, 22.1, 9, 3}<br>\n",
    "y = {2, 5, 8, 9, 22.0}\n",
    "</tt>\n",
    "\n",
    "a. 分別印出 x, y<br>\n",
    "b. 於 x 增加一個 element 'abc'，並印出 x<br>\n",
    "c. 印出 x 與 y 的交集<br>\n",
    "d. 印出 x 與 y 的聯集<br>\n",
    "e. x 中移除 9，並印出 x<br>"
   ]
  },
  {
   "cell_type": "code",
   "execution_count": null,
   "id": "cddd8fe9",
   "metadata": {},
   "outputs": [],
   "source": [
    "x = {3, 7, 9, 111, 3, 5, 6, 12, 22.1, 9, 3}\n",
    "y = {2, 5, 8, 9, 22.0}"
   ]
  },
  {
   "cell_type": "markdown",
   "id": "6401c7e8",
   "metadata": {},
   "source": [
    "### a. 分別印出 x, y"
   ]
  },
  {
   "cell_type": "code",
   "execution_count": null,
   "id": "59173735",
   "metadata": {},
   "outputs": [],
   "source": [
    "print(x, y)"
   ]
  },
  {
   "cell_type": "markdown",
   "id": "780e070b",
   "metadata": {},
   "source": [
    "### b. 於 x 增加一個 element 'abc'，並印出 x"
   ]
  },
  {
   "cell_type": "code",
   "execution_count": null,
   "id": "63274f4b",
   "metadata": {},
   "outputs": [],
   "source": [
    "x.add('abc')\n",
    "print(x)"
   ]
  },
  {
   "cell_type": "markdown",
   "id": "f6aece07",
   "metadata": {},
   "source": [
    "### c. 印出 x 與 y 的交集"
   ]
  },
  {
   "cell_type": "code",
   "execution_count": null,
   "id": "273118af",
   "metadata": {},
   "outputs": [],
   "source": [
    "print(x.intersection(y))"
   ]
  },
  {
   "cell_type": "markdown",
   "id": "7bf7b241",
   "metadata": {},
   "source": [
    "### d. 印出 x 與 y 的聯集"
   ]
  },
  {
   "cell_type": "code",
   "execution_count": null,
   "id": "450df5c7",
   "metadata": {},
   "outputs": [],
   "source": [
    "print(x.union(y))"
   ]
  },
  {
   "cell_type": "markdown",
   "id": "54f1306e",
   "metadata": {},
   "source": [
    "### e. x 中移除 9，並印出 x"
   ]
  },
  {
   "cell_type": "code",
   "execution_count": null,
   "id": "fb4eef6f",
   "metadata": {},
   "outputs": [],
   "source": [
    "x.remove(9)  # x.discard(9)\n",
    "print(x)"
   ]
  }
 ],
 "metadata": {
  "kernelspec": {
   "display_name": "Python 3 (ipykernel)",
   "language": "python",
   "name": "python3"
  },
  "language_info": {
   "codemirror_mode": {
    "name": "ipython",
    "version": 3
   },
   "file_extension": ".py",
   "mimetype": "text/x-python",
   "name": "python",
   "nbconvert_exporter": "python",
   "pygments_lexer": "ipython3",
   "version": "3.7.13"
  }
 },
 "nbformat": 4,
 "nbformat_minor": 5
}
