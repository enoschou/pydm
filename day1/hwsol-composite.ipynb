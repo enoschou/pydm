{
 "cells": [
  {
   "cell_type": "markdown",
   "id": "82909980",
   "metadata": {},
   "source": [
    "# Homework Composite Data Structure\n",
    "\n",
    "## Tech\n",
    "a. Composite dict & list<br>\n",
    "b. f-string<br>\n",
    "\n",
    "## Tasks\n",
    "\n",
    "a. 以 dict 儲存下列 10 位學生資料，並印出 Bill 的身高體重<br>\n",
    "<tt><font color='blue'>Bill's height: 168cm, weight:70kg</font></tt>\n",
    "\n",
    "b. 依姓名、身高、體重各以一個 list 儲存下列 10 位學生資料，並印出 Larry 的身高體重<br>\n",
    "<tt><font color='blue'>\n",
    "n = ['David', 'John', …]<br>\n",
    "h = [180, 172, …]<br>\n",
    "w = [85, 72, …]<br>\n",
    "Larry's height: 160cm, weight:64kg\n",
    "</font></tt>\n",
    "\n",
    "## Data\n",
    "<br>\n",
    "<tt>\n",
    "David&nbsp;&nbsp;&nbsp;&nbsp;180cm 85kg<br>\n",
    "John&nbsp;&nbsp;&nbsp;&nbsp;&nbsp;172cm 72kg<br>\n",
    "Mary&nbsp;&nbsp;&nbsp;&nbsp;&nbsp;158cm 51kg<br>\n",
    "Lora&nbsp;&nbsp;&nbsp;&nbsp;&nbsp;160cm 49kg<br>\n",
    "Bill&nbsp;&nbsp;&nbsp;&nbsp;&nbsp;168cm 70kg<br>\n",
    "Elsa&nbsp;&nbsp;&nbsp;&nbsp;&nbsp;154cm 55kg<br>\n",
    "Golden&nbsp;&nbsp;&nbsp;176cm 69kg<br>\n",
    "Jason&nbsp;&nbsp;&nbsp;&nbsp;182cm 77kg<br>\n",
    "Larry&nbsp;&nbsp;&nbsp;&nbsp;160cm 64kg<br>\n",
    "Michelle 155cm 57kg<br>\n",
    "</tt>"
   ]
  },
  {
   "cell_type": "markdown",
   "id": "4114dfb0",
   "metadata": {},
   "source": [
    "### a. 以 dict 儲存下列 10 位學生資料，並印出 Bill 的身高體重\n",
    "<tt><font color='blue'>Bill's height: 168cm, weight:70kg</font></tt>"
   ]
  },
  {
   "cell_type": "code",
   "execution_count": null,
   "id": "7e67f445",
   "metadata": {},
   "outputs": [],
   "source": [
    "d1 = [{'n': 'David', 'h': 180, 'w': 85},\n",
    "      {'n': 'John', 'h': 172, 'w': 72},\n",
    "      {'n': 'Mary', 'h': 158, 'w': 51},\n",
    "      {'n': 'Lora', 'h': 160, 'w': 49},\n",
    "      {'n': 'Bill', 'h': 168, 'w': 70},\n",
    "      {'n': 'Elsa', 'h': 154, 'w': 55},\n",
    "      {'n': 'Golden', 'h': 176, 'w': 69},\n",
    "      {'n': 'Jason', 'h': 182, 'w': 77},\n",
    "      {'n': 'Larry', 'h': 160, 'w': 64},\n",
    "      {'n': 'Michelle', 'h': 155, 'w': 57}\n",
    "     ]\n",
    "print(d1)\n",
    "\n",
    "i = 4\n",
    "print(f'{d1[4][\"n\"]}\\'s height: {d1[4][\"h\"]}cm, weight: {d1[4][\"w\"]}kg')"
   ]
  },
  {
   "cell_type": "code",
   "execution_count": null,
   "id": "178c7e66",
   "metadata": {},
   "outputs": [],
   "source": [
    "d2 = {'David': {'h': 180, 'w': 85},\n",
    "     'John': {'h': 172, 'w': 72},\n",
    "     'Mary': {'h': 158, 'w': 51},\n",
    "     'Lora': {'h': 160, 'w': 49},\n",
    "     'Bill': {'h': 168, 'w': 70},\n",
    "     'Elsa': {'h': 154, 'w': 55},\n",
    "     'Golden': {'h': 176, 'w': 69},\n",
    "     'Jason': {'h': 182, 'w': 77},\n",
    "     'Larry': {'h': 160, 'w': 64},\n",
    "     'Michelle': {'h': 155, 'w': 57}}\n",
    "print(d2)\n",
    "\n",
    "name = 'Bill'\n",
    "print(f'{name}\\'s height: {d2[name][\"h\"]}cm, weight: {d2[name][\"w\"]}kg')"
   ]
  },
  {
   "cell_type": "code",
   "execution_count": null,
   "id": "cd724793",
   "metadata": {},
   "outputs": [],
   "source": [
    "d3 = {'David': {'h': {'unit': 'cm', 'value': 180}, 'w': {'unit': 'kg', 'value': 85}},\n",
    "     'John': {'h': {'unit': 'cm', 'value': 172}, 'w': {'unit': 'kg', 'value': 72}},\n",
    "     'Mary': {'h': {'unit': 'cm', 'value': 158}, 'w': {'unit': 'kg', 'value': 51}},\n",
    "     'Lora': {'h': {'unit': 'cm', 'value': 160}, 'w': {'unit': 'kg', 'value': 49}},\n",
    "     'Bill': {'h': {'unit': 'cm', 'value': 168}, 'w': {'unit': 'kg', 'value': 70}},\n",
    "     'Elsa': {'h': {'unit': 'cm', 'value': 154}, 'w': {'unit': 'kg', 'value': 55}},\n",
    "     'Golden': {'h': {'unit': 'cm', 'value': 176}, 'w': {'unit': 'kg', 'value': 69}},\n",
    "     'Jason': {'h': {'unit': 'cm', 'value': 182}, 'w': {'unit': 'kg', 'value': 77}},\n",
    "     'Larry': {'h': {'unit': 'cm', 'value': 160}, 'w': {'unit': 'kg', 'value': 64}},\n",
    "     'Michelle': {'h': {'unit': 'cm', 'value': 155}, 'w': {'unit': 'kg', 'value': 57}}}\n",
    "print(d3)\n",
    "\n",
    "name = 'Bill'\n",
    "print(f'{name}\\'s height: {d3[name][\"h\"][\"value\"]}{d3[name][\"h\"][\"unit\"]}, '\n",
    "      f'weight: {d3[name][\"w\"][\"value\"]}{d3[name][\"w\"][\"unit\"]}')"
   ]
  },
  {
   "cell_type": "markdown",
   "id": "d0fcabf4",
   "metadata": {},
   "source": [
    "### b. 依姓名、身高、體重各以一個 list 儲存下列 10 位學生資料，並印出 Larry 的身高體重\n",
    "<tt><font color='blue'>\n",
    "n = ['David', 'John', …]<br>\n",
    "h = [180, 172, …]<br>\n",
    "w = [85, 72, …]<br>\n",
    "Larry's height: 160cm, weight:64kg\n",
    "</font></tt>"
   ]
  },
  {
   "cell_type": "code",
   "execution_count": null,
   "id": "d1716be9",
   "metadata": {},
   "outputs": [],
   "source": [
    "n = ['David', 'John', 'Mary', 'Lora', 'Bill', 'Elsa', 'Golden', 'Jason', 'Larry', 'Michelle']\n",
    "h = [180, 172, 158, 160, 168, 154, 176, 182, 160, 155]\n",
    "w = [85, 72, 51, 49, 70, 55, 69, 77, 64, 57]\n",
    "\n",
    "print(n)\n",
    "print(h)\n",
    "print(w)"
   ]
  },
  {
   "cell_type": "code",
   "execution_count": null,
   "id": "2f332ad3",
   "metadata": {},
   "outputs": [],
   "source": [
    "i = -2\n",
    "print(f'{n[i]}\\'s height: {h[i]}cm, weight: {w[i]}kg')"
   ]
  },
  {
   "cell_type": "code",
   "execution_count": null,
   "id": "cb9c3de2",
   "metadata": {},
   "outputs": [],
   "source": [
    "target = 'Larry'\n",
    "i = n.index(target)\n",
    "print(f'{n[i]}\\'s height: {h[i]}cm, weight: {w[i]}kg')"
   ]
  },
  {
   "cell_type": "code",
   "execution_count": null,
   "id": "f22fcd13",
   "metadata": {},
   "outputs": [],
   "source": []
  }
 ],
 "metadata": {
  "kernelspec": {
   "display_name": "Python 3 (ipykernel)",
   "language": "python",
   "name": "python3"
  },
  "language_info": {
   "codemirror_mode": {
    "name": "ipython",
    "version": 3
   },
   "file_extension": ".py",
   "mimetype": "text/x-python",
   "name": "python",
   "nbconvert_exporter": "python",
   "pygments_lexer": "ipython3",
   "version": "3.7.13"
  }
 },
 "nbformat": 4,
 "nbformat_minor": 5
}
