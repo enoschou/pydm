{
 "cells": [
  {
   "cell_type": "markdown",
   "id": "b84c631f-2035-4aa9-8a27-e12d3e957a51",
   "metadata": {},
   "source": [
    "# Homework Count Trees\n",
    "\n",
    "<b>Tech</b>\n",
    "<ol>\n",
    "    <li>Directory</li>\n",
    "    <li>File</li>\n",
    "    <li>Function</li>\n",
    "    <li>Loop</li>\n",
    "    <li>glob</li>\n",
    "    <li>set</li>\n",
    "    <li>sorted</li>\n",
    "    <li>Output handling</li>\n",
    "</ol>\n",
    "\n",
    "<b>Tasks</b>\n",
    "<ol>\n",
    "    <li>於 trees 目錄中，區分訓練集 (train)、測試集 (test) 計算各樹種 .jpg 檔數量，並將結果輸出至螢幕或 output.csv</li>\n",
    "    <li>在 trees\\test 資料夾新增空的資料夾 AA，同時在 trees\\train 資料夾新增空的資料夾 ZZ，結果是否依然正確？</li>\n",
    "    <li>建立 function 能夠彈性選擇將結果輸出至螢幕或檔案</li>\n",
    "</ol>\n",
    "\n",
    "<b>Output</b>\n",
    "\n",
    "<tt><font color='blue'>\n",
    ",AS,BJ,CC,DR,FM,KE,LF,MA,MI,MP,PC,RR,TC,TM<br>\n",
    "test,35,33,44,31,50,50,33,28,25,28,30,25,32,45<br>\n",
    "train,96,164,201,105,295,203,150,56,100,68,105,68,62,170<br>\n",
    "</font></tt>\n",
    "\n",
    "<b>Notes</b>\n",
    "\n",
    "<ol>\n",
    "    <li>'train', 'test', 'AS', 'BJ'... 等不得寫死，須以程式取得</li>\n",
    "    <li>AS: 黑板樹, BJ: 茄冬, CC: 樟樹, DR: 鳳凰木, FM: 榕樹, KE: 台灣欒樹, LF: 楓香, MA: 苦楝, MI: 白千層, MP: 水黃皮, PC: 阿勃勒, RR: 大王椰子, TC: 大葉欖仁, TM: 小葉欖仁</li>\n",
    "</ol>"
   ]
  },
  {
   "cell_type": "code",
   "execution_count": null,
   "id": "1f52e4f9-a7ba-4560-9973-15ca0bae8022",
   "metadata": {},
   "outputs": [],
   "source": []
  }
 ],
 "metadata": {
  "kernelspec": {
   "display_name": "Python 3 (ipykernel)",
   "language": "python",
   "name": "python3"
  },
  "language_info": {
   "codemirror_mode": {
    "name": "ipython",
    "version": 3
   },
   "file_extension": ".py",
   "mimetype": "text/x-python",
   "name": "python",
   "nbconvert_exporter": "python",
   "pygments_lexer": "ipython3",
   "version": "3.12.11"
  }
 },
 "nbformat": 4,
 "nbformat_minor": 5
}
