{
 "cells": [
  {
   "cell_type": "markdown",
   "id": "1122f80e",
   "metadata": {},
   "source": [
    "# Homework Guess\n",
    "\n",
    "## Tech\n",
    "Function, for/while, input, str, cast\n",
    "## Tasks\n",
    "製作猜數字遊戲，由電腦隨機出 4 個不同數字讓用戶猜，每次用戶猜測的 4 個數字會由電腦輸出 ?A?B 的結果；每個遊戲在用戶完全猜對 (4A0B) 或猜測 10 次之後結束。\n",
    "## Function & Module\n",
    "input</br>\n",
    "random</br>\n",
    "## SPEC\n",
    "1.程式需自訂 function，並做防呆處理。</br>\n",
    "## Reference Output\n",
    "<tt>\n",
    "round&nbsp;&nbsp;1 請猜4個數字 1234</br>\n",
    "round&nbsp;&nbsp;1: 0A 1B</br>\n",
    "round&nbsp;&nbsp;2 請猜4個數字 245 0</br>\n",
    "輸入錯誤</br>\n",
    "round&nbsp;&nbsp;3 請猜4個數字 99aa</br>\n",
    "輸入錯誤</br>\n",
    "round&nbsp;&nbsp;4 請猜4個數字   2 3 45</br>\n",
    "round&nbsp;&nbsp;4: 0A 2B</br>\n",
    "round&nbsp;&nbsp;5 請猜4個數字 2322</br>\n",
    "輸入錯誤</br>\n",
    "round&nbsp;&nbsp;6 請猜4個數字 7013</br>\n",
    "round&nbsp;&nbsp;6: 1A 0B</br>\n",
    "round&nbsp;&nbsp;7 請猜4個數字 AAAd</br>\n",
    "輸入錯誤</br>\n",
    "round&nbsp;&nbsp;8 請猜4個數字 7592</br>\n",
    "round&nbsp;&nbsp;8: 2A 2B</br>\n",
    "round&nbsp;&nbsp;9 請猜4個數字 7529</br>\n",
    "round&nbsp;&nbsp;9: 4A\n",
    "</tt>"
   ]
  },
  {
   "cell_type": "markdown",
   "id": "6cdcd7f3",
   "metadata": {},
   "source": [
    "## Solution"
   ]
  },
  {
   "cell_type": "code",
   "execution_count": null,
   "id": "24f0bc40",
   "metadata": {},
   "outputs": [],
   "source": []
  }
 ],
 "metadata": {
  "kernelspec": {
   "display_name": "Python 3 (ipykernel)",
   "language": "python",
   "name": "python3"
  },
  "language_info": {
   "codemirror_mode": {
    "name": "ipython",
    "version": 3
   },
   "file_extension": ".py",
   "mimetype": "text/x-python",
   "name": "python",
   "nbconvert_exporter": "python",
   "pygments_lexer": "ipython3",
   "version": "3.8.10"
  }
 },
 "nbformat": 4,
 "nbformat_minor": 5
}
