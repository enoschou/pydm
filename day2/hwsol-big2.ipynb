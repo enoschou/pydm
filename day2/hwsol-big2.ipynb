{
 "cells": [
  {
   "cell_type": "markdown",
   "id": "57cc500a",
   "metadata": {},
   "source": [
    "# Homework Big 2\n",
    "\n",
    "## Tech\n",
    "if-elif-else<br>\n",
    "tuple<br>\n",
    "list<br>\n",
    "dict<br>\n",
    "range<br>\n",
    "zip\n",
    "\n",
    "## 以大老二規則比較兩玩家各出一張撲克牌勝負\n",
    "player1 與 player2 各從莊家取得一張撲克牌進行比賽，比賽規則為：<br>\n",
    "<ol>\n",
    "    <li>先比數字，大小順序為 2 > A > K > Q > J > 10 > 9 > 8 > 7 > 6 > 5 > 4 > 3，較大者獲勝\n",
    "    <li>若雙方數字相同則比較花色，大小順序為 SPADE > HEART > DIAMOND > CLUB，較大者獲勝\n",
    "</ol>\n",
    "隨機發牌程式如下，請協助比較兩玩家勝負"
   ]
  },
  {
   "cell_type": "code",
   "execution_count": null,
   "id": "78e0f455",
   "metadata": {},
   "outputs": [],
   "source": [
    "# 隨機發牌給 player1, player2\n",
    "from random import sample\n",
    "\n",
    "SUITS = ['SPADE', 'HEART', 'DIAMOND', 'CLUB']\n",
    "NUMBERS = ['2', 'A', 'K', 'Q', 'J', '10', '9', '8', '7', '6', '5', '4', '3']\n",
    "\n",
    "#cards = [(s, n) for s in SUITS for n in NUMBERS]\n",
    "cards = list(zip(SUITS * len(NUMBERS), NUMBERS * len(SUITS)))\n",
    "\n",
    "player1, player2 = sample(cards, k=2)\n",
    "print(f'player1 {player1}, player2 {player2}')"
   ]
  },
  {
   "cell_type": "markdown",
   "id": "c884538f",
   "metadata": {},
   "source": [
    "## Solution 1"
   ]
  },
  {
   "cell_type": "code",
   "execution_count": null,
   "id": "f779d260",
   "metadata": {},
   "outputs": [],
   "source": [
    "suits_rank = dict(zip(SUITS, range(len(SUITS), 0, -1)))\n",
    "print(suits_rank)\n",
    "numbers_rank = dict(zip(NUMBERS, range(len(NUMBERS), 0, -1)))\n",
    "print(numbers_rank)"
   ]
  },
  {
   "cell_type": "code",
   "execution_count": null,
   "id": "76c15cab",
   "metadata": {},
   "outputs": [],
   "source": [
    "if numbers_rank[player1[1]] > numbers_rank[player2[1]]:\n",
    "    print('player1 win')\n",
    "elif numbers_rank[player1[1]] == numbers_rank[player2[1]]:\n",
    "    if suits_rank[player1[0]] > suits_rank[player2[0]]:\n",
    "        print('player1 win')\n",
    "    else:\n",
    "        print('player2 win')\n",
    "else:\n",
    "    print('player2 win')"
   ]
  },
  {
   "cell_type": "markdown",
   "id": "f14af870",
   "metadata": {},
   "source": [
    "## Solution 2"
   ]
  },
  {
   "cell_type": "code",
   "execution_count": null,
   "id": "53802fe3",
   "metadata": {},
   "outputs": [],
   "source": [
    "print(SUITS)\n",
    "print(NUMBERS)"
   ]
  },
  {
   "cell_type": "code",
   "execution_count": null,
   "id": "c1a71d03",
   "metadata": {},
   "outputs": [],
   "source": [
    "if NUMBERS.index(player1[1]) < NUMBERS.index(player2[1]):\n",
    "    print('player1 win')\n",
    "elif NUMBERS.index(player1[1]) == NUMBERS.index(player2[1]):\n",
    "    if SUITS.index(player1[0]) < SUITS.index(player2[0]):\n",
    "        print('player1 win')\n",
    "    else:\n",
    "        print('player2 win')\n",
    "else:\n",
    "    print('player2 win')"
   ]
  },
  {
   "cell_type": "markdown",
   "id": "190d713b-69bd-407f-a63f-38dfe5e27f06",
   "metadata": {},
   "source": [
    "## Solution 3"
   ]
  },
  {
   "cell_type": "code",
   "execution_count": null,
   "id": "28cdc326-1fb4-4d3b-a762-3de6ae922fa5",
   "metadata": {},
   "outputs": [],
   "source": [
    "CARDS_ORDER = [(s, n) for n in NUMBERS for s in SUITS]\n",
    "print(CARDS_ORDER)"
   ]
  },
  {
   "cell_type": "code",
   "execution_count": null,
   "id": "666ae216-171a-434a-bda0-8b7dcc20fbf5",
   "metadata": {},
   "outputs": [],
   "source": [
    "if CARDS_ORDER.index(player1) < CARDS_ORDER.index(player2):\n",
    "    print('player1 win')\n",
    "else:\n",
    "    print('player2 win')"
   ]
  },
  {
   "cell_type": "code",
   "execution_count": null,
   "id": "d495d9f3-d91d-418f-ab4c-df1f0e6eacc7",
   "metadata": {},
   "outputs": [],
   "source": []
  }
 ],
 "metadata": {
  "kernelspec": {
   "display_name": "Python 3 (ipykernel)",
   "language": "python",
   "name": "python3"
  },
  "language_info": {
   "codemirror_mode": {
    "name": "ipython",
    "version": 3
   },
   "file_extension": ".py",
   "mimetype": "text/x-python",
   "name": "python",
   "nbconvert_exporter": "python",
   "pygments_lexer": "ipython3",
   "version": "3.12.11"
  }
 },
 "nbformat": 4,
 "nbformat_minor": 5
}
