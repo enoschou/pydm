{
 "cells": [
  {
   "cell_type": "markdown",
   "id": "57cc500a",
   "metadata": {},
   "source": [
    "# Homework Big 2\n",
    "\n",
    "## Tech\n",
    "if-elif-else<br>\n",
    "tuple<br>\n",
    "list<br>\n",
    "dict<br>\n",
    "range<br>\n",
    "zip\n",
    "\n",
    "## 以大老二規則比較兩玩家各出一張撲克牌勝負\n",
    "player1 與 player2 各從莊家取得一張撲克牌進行比賽，比賽規則為：<br>\n",
    "<ol>\n",
    "    <li>先比數字，大小順序為 2 > A > K > Q > J > 10 > 9 > 8 > 7 > 6 > 5 > 4 > 3，較大者獲勝\n",
    "    <li>若雙方數字相同則比較花色，大小順序為 SPADE > HEART > DIAMOND > CLUB，較大者獲勝\n",
    "</ol>\n",
    "隨機發牌程式如下，請協助比較兩玩家勝負"
   ]
  },
  {
   "cell_type": "code",
   "execution_count": null,
   "id": "78e0f455",
   "metadata": {},
   "outputs": [],
   "source": [
    "# 隨機發牌給 player1, player2\n",
    "from random import sample\n",
    "\n",
    "SUITS = ['SPADE', 'HEART', 'DIAMOND', 'CLUB']\n",
    "NUMBERS = ['2', 'A', 'K', 'Q', 'J', '10', '9', '8', '7', '6', '5', '4', '3']\n",
    "\n",
    "#cards = [(s, n) for s in SUITS for n in NUMBERS]\n",
    "cards = list(zip(SUITS * len(NUMBERS), NUMBERS * len(SUITS)))\n",
    "\n",
    "player1, player2 = sample(cards, k=2)\n",
    "print(f'player1 {player1}, player2 {player2}')"
   ]
  },
  {
   "cell_type": "code",
   "execution_count": null,
   "id": "48317d40",
   "metadata": {},
   "outputs": [],
   "source": []
  }
 ],
 "metadata": {
  "kernelspec": {
   "display_name": "Python 3 (ipykernel)",
   "language": "python",
   "name": "python3"
  },
  "language_info": {
   "codemirror_mode": {
    "name": "ipython",
    "version": 3
   },
   "file_extension": ".py",
   "mimetype": "text/x-python",
   "name": "python",
   "nbconvert_exporter": "python",
   "pygments_lexer": "ipython3",
   "version": "3.12.11"
  }
 },
 "nbformat": 4,
 "nbformat_minor": 5
}
