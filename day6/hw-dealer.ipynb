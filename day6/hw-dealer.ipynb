{
 "cells": [
  {
   "cell_type": "markdown",
   "id": "f95fa895-bdd1-46ed-a7f6-3304386bb468",
   "metadata": {},
   "source": [
    "# <font color=\"blue\">Homework Dealer</font>"
   ]
  },
  {
   "cell_type": "markdown",
   "id": "3da33b15-b6e1-42ba-bfbf-1386e65f6f7c",
   "metadata": {},
   "source": [
    "## Task 1, Basic Class Design<br><br><font color='brown'>設計並建立大老二莊家類別，能夠洗牌、切排、發牌，並能夠依大老二規則比較卡牌大小</font>"
   ]
  },
  {
   "cell_type": "markdown",
   "id": "55ca5961-c480-42b1-9a39-a77a2eebea45",
   "metadata": {},
   "source": [
    "<b>SPEC</b>\n",
    "\n",
    "<u>叫用方式</u>"
   ]
  },
  {
   "cell_type": "code",
   "execution_count": null,
   "id": "981d3694-a708-48bf-ae87-d9bce62c2178",
   "metadata": {},
   "outputs": [],
   "source": [
    "dealer = Dealer()\n",
    "a, b = dealer.deal(2)\n",
    "print(f'{a} vs {b}')\n",
    "print(dealer.win(a, b), 'win')"
   ]
  },
  {
   "cell_type": "markdown",
   "id": "665ada47-a85b-4e4e-839f-75231b72fc21",
   "metadata": {},
   "source": [
    "<u>產出內容</u>\n",
    "\n",
    "<tt>\n",
    "('CLUB', '7') vs ('HEART', '9')<br>\n",
    "('HEART', '9') win\n",
    "</tt>"
   ]
  },
  {
   "cell_type": "markdown",
   "id": "1581b9c4-1f39-4ad2-a280-171900ebc101",
   "metadata": {},
   "source": [
    "## Task 2, Advanced Class Design<br><br><font color='brown'>分別建立莊家與大老二卡牌兩個類別，莊家能夠洗牌、切排、發牌，並以大老二卡牌類別的比較運算子依大老二規則比較大小</font>"
   ]
  },
  {
   "cell_type": "markdown",
   "id": "7a8a8e41-8d06-491a-b332-247db98135c7",
   "metadata": {},
   "source": [
    "<b>SPEC</b>\n",
    "\n",
    "<u>叫用方式</u>"
   ]
  },
  {
   "cell_type": "code",
   "execution_count": null,
   "id": "9528ae56-690a-4d18-a868-e96bf81485b8",
   "metadata": {},
   "outputs": [],
   "source": [
    "dealer = Dealer()\n",
    "a, b = dealer.deal(2)\n",
    "print(f'{a} vs {b}')\n",
    "print(f'{a} <  {b}: {a < b}')\n",
    "print(f'{a} == {b}: {a == b}')\n",
    "print(f'{a} >= {b}: {a >= b}')"
   ]
  },
  {
   "cell_type": "markdown",
   "id": "69634818-1b50-459d-9dc6-811d78621287",
   "metadata": {},
   "source": [
    "<u>產出內容</u>\n",
    "\n",
    "<tt>\n",
    "&lt;DIAMOND, Q&gt; vs &lt;HEART, J&gt;<br>\n",
    "&lt;DIAMOND, Q&gt; < &nbsp;&lt;HEART, J&gt;: False<br>\n",
    "&lt;DIAMOND, Q&gt; == &lt;HEART, J&gt;: False<br>\n",
    "&lt;DIAMOND, Q&gt; >= &lt;HEART, J&gt;: True\n",
    "</tt>"
   ]
  },
  {
   "cell_type": "markdown",
   "id": "275b9b4f-2392-4d9f-8dab-3726537a35a8",
   "metadata": {},
   "source": [
    "<b>Hint</b>\n",
    "\n",
    "<tt>\n",
    "<font color=\"green\">\n",
    "__lt__()<br>\n",
    "__le__()<br>\n",
    "__gt__()<br>\n",
    "__ge__()<br>\n",
    "__eq__()<br>\n",
    "__len__()<br>\n",
    "__str__()\n",
    "</font>\n",
    "</tt>"
   ]
  },
  {
   "cell_type": "code",
   "execution_count": null,
   "id": "f288e813-83f1-4650-ba31-b314d9142c45",
   "metadata": {},
   "outputs": [],
   "source": []
  }
 ],
 "metadata": {
  "kernelspec": {
   "display_name": "Python 3 (ipykernel)",
   "language": "python",
   "name": "python3"
  },
  "language_info": {
   "codemirror_mode": {
    "name": "ipython",
    "version": 3
   },
   "file_extension": ".py",
   "mimetype": "text/x-python",
   "name": "python",
   "nbconvert_exporter": "python",
   "pygments_lexer": "ipython3",
   "version": "3.12.11"
  }
 },
 "nbformat": 4,
 "nbformat_minor": 5
}
