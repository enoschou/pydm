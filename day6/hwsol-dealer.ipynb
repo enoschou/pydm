{
 "cells": [
  {
   "cell_type": "markdown",
   "id": "f95fa895-bdd1-46ed-a7f6-3304386bb468",
   "metadata": {},
   "source": [
    "# <font color=\"blue\">Homework Dealer</font>"
   ]
  },
  {
   "cell_type": "markdown",
   "id": "3da33b15-b6e1-42ba-bfbf-1386e65f6f7c",
   "metadata": {},
   "source": [
    "## Task 1, Basic Class Design<br><br><font color='brown'>設計並建立大老二莊家類別，能夠洗牌、切排、發牌，並能夠依大老二規則比較卡牌大小</font>"
   ]
  },
  {
   "cell_type": "markdown",
   "id": "55ca5961-c480-42b1-9a39-a77a2eebea45",
   "metadata": {},
   "source": [
    "<b>SPEC</b>\n",
    "\n",
    "<u>叫用方式</u>"
   ]
  },
  {
   "cell_type": "code",
   "execution_count": null,
   "id": "a40b2db3-1211-4129-a4b0-8d187429a10a",
   "metadata": {},
   "outputs": [],
   "source": [
    "import random\n",
    "\n",
    "class Dealer:\n",
    "\n",
    "    _SUITS = ('SPADE', 'HEART', 'DIAMOND', 'CLUB')\n",
    "    _NUMBERS = ('2', 'A', 'K', 'Q', 'J', '10', '9', '8', '7', '6', '5', '4', '3')\n",
    "\n",
    "    def __init__(self):\n",
    "        self.rank = [(s, n) for n in __class__._NUMBERS for s in __class__._SUITS]\n",
    "        self.cards = self.rank.copy()\n",
    "        random.shuffle(self.cards)\n",
    "        \n",
    "    def cut(self, n: int = None) -> None:\n",
    "        if len(self.cards) < 52:\n",
    "            return\n",
    "        if type(n) != int or n < 0 or n >= len(self.cards):\n",
    "            n = random.randrange(0, len(self.cards))\n",
    "        print(n)\n",
    "        self.cards = self.cards[n:] + self.cards[:n]\n",
    "        \n",
    "    def deal(self, n: int = 2) -> list[tuple[str]]:\n",
    "        if type(n) != int or n <= 0 or n > len(self.cards):\n",
    "            return []\n",
    "\n",
    "        buf = self.cards[:n]\n",
    "        self.cards = self.cards[n:]\n",
    "        return buf\n",
    "            \n",
    "    def win(self, a: tuple[str], b: tuple[str]) -> tuple[str] | None:\n",
    "        a_rank, b_rank = self.rank.index(a), self.rank.index(b)\n",
    "        if a_rank >= 0 and b_rank >= 0:\n",
    "            if a_rank < b_rank:\n",
    "                return a\n",
    "            elif a_rank > b_rank:\n",
    "                return b\n",
    "\n",
    "    def __len__(self):\n",
    "        return len(self.cards)\n",
    "\n",
    "    def __str__(self):\n",
    "        return 'I am the Dealer'"
   ]
  },
  {
   "cell_type": "code",
   "execution_count": null,
   "id": "981d3694-a708-48bf-ae87-d9bce62c2178",
   "metadata": {},
   "outputs": [],
   "source": [
    "dealer = Dealer()\n",
    "a, b = dealer.deal(2)\n",
    "print(f'{a} vs {b}')\n",
    "print(dealer.win(a, b), 'win')"
   ]
  },
  {
   "cell_type": "markdown",
   "id": "665ada47-a85b-4e4e-839f-75231b72fc21",
   "metadata": {},
   "source": [
    "<u>產出內容</u>\n",
    "\n",
    "<tt>\n",
    "('CLUB', '7') vs ('HEART', '9')<br>\n",
    "('HEART', '9') win\n",
    "</tt>"
   ]
  },
  {
   "cell_type": "markdown",
   "id": "1581b9c4-1f39-4ad2-a280-171900ebc101",
   "metadata": {},
   "source": [
    "## Task 2, Advanced Class Design<br><br><font color='brown'>分別建立莊家與大老二卡牌兩個類別，莊家能夠洗牌、切排、發牌，並以大老二卡牌類別的比較運算子依大老二規則比較大小</font>"
   ]
  },
  {
   "cell_type": "markdown",
   "id": "7a8a8e41-8d06-491a-b332-247db98135c7",
   "metadata": {},
   "source": [
    "<b>SPEC</b>\n",
    "\n",
    "<u>叫用方式</u>"
   ]
  },
  {
   "cell_type": "code",
   "execution_count": null,
   "id": "93acc294-c363-4011-abd4-bc19f09eb3c5",
   "metadata": {},
   "outputs": [],
   "source": [
    "import random\n",
    "\n",
    "class Dealer:\n",
    "\n",
    "    def __init__(self):\n",
    "        self.rank = [Card(s, n) for n in Card.NUMBERS for s in Card.SUITS]\n",
    "        self.cards = self.rank.copy()\n",
    "        random.shuffle(self.cards)\n",
    "        \n",
    "    def cut(self, n: int = None) -> None:\n",
    "        if len(self.cards) < 52:\n",
    "            return\n",
    "        if type(n) != int or n < 0 or n >= len(self.cards):\n",
    "            n = random.randrange(0, len(self.cards))\n",
    "        print(n)\n",
    "        self.cards = self.cards[n:] + self.cards[:n]\n",
    "        \n",
    "    def deal(self, n: int = 2) -> list[Card]:\n",
    "        if type(n) != int or n <= 0 or n > len(self.cards):\n",
    "            return []\n",
    "\n",
    "        buf = self.cards[:n]\n",
    "        self.cards = self.cards[n:]\n",
    "        return buf\n",
    "\n",
    "    def __len__(self):\n",
    "        return len(self.cards)\n",
    "\n",
    "    def __repr__(self):\n",
    "        return f'Dealer of {len(self)} cards'\n",
    "\n",
    "\n",
    "class Card:\n",
    "\n",
    "    SUITS = ('SPADE', 'HEART', 'DIAMOND', 'CLUB')\n",
    "    NUMBERS = ('2', 'A', 'K', 'Q', 'J', '10', '9', '8', '7', '6', '5', '4', '3')\n",
    "    _RANK = []\n",
    "    for n in NUMBERS:\n",
    "        for s in SUITS:\n",
    "            _RANK.append((s, n))\n",
    "\n",
    "    def __new__(cls, suit, number):\n",
    "        if suit in __class__.SUITS and number in __class__.NUMBERS:\n",
    "            return super().__new__(cls)\n",
    "    \n",
    "    def __init__(self, suit, number):\n",
    "        self._suit = suit\n",
    "        self._number = number\n",
    "    \n",
    "    def __eq__(self, b):\n",
    "        return self._suit == b._suit and self._number == b._number\n",
    "\n",
    "    def __gt__(self, b):\n",
    "        _a, _b = (self._suit, self._number), (b._suit, b._number)\n",
    "        a_rank, b_rank = __class__._RANK.index(_a), __class__._RANK.index(_b)\n",
    "        return a_rank < b_rank\n",
    "\n",
    "    def __ge__(self, b):\n",
    "        _a, _b = (self._suit, self._number), (b._suit, b._number)\n",
    "        a_rank, b_rank = __class__._RANK.index(_a), __class__._RANK.index(_b)\n",
    "        return a_rank < b_rank or self == b\n",
    "\n",
    "    def __str__(self):\n",
    "        return f'<{self._suit}, {self._number}>'\n",
    "    \n",
    "    def __repr__(self):\n",
    "        return f'<{self._suit!r}, {self._number!r}>'"
   ]
  },
  {
   "cell_type": "code",
   "execution_count": null,
   "id": "9528ae56-690a-4d18-a868-e96bf81485b8",
   "metadata": {},
   "outputs": [],
   "source": [
    "dealer = Dealer()\n",
    "a, b = dealer.deal(2)\n",
    "print(f'{a} vs {b}')\n",
    "print(f'{a} <  {b}: {a < b}')\n",
    "print(f'{a} == {b}: {a == b}')\n",
    "print(f'{a} >= {b}: {a >= b}')"
   ]
  },
  {
   "cell_type": "markdown",
   "id": "69634818-1b50-459d-9dc6-811d78621287",
   "metadata": {},
   "source": [
    "<u>產出內容</u>\n",
    "\n",
    "<tt>\n",
    "&lt;DIAMOND, Q&gt; vs &lt;HEART, J&gt;<br>\n",
    "&lt;DIAMOND, Q&gt; < &nbsp;&lt;HEART, J&gt;: False<br>\n",
    "&lt;DIAMOND, Q&gt; == &lt;HEART, J&gt;: False<br>\n",
    "&lt;DIAMOND, Q&gt; >= &lt;HEART, J&gt;: True\n",
    "</tt>"
   ]
  },
  {
   "cell_type": "markdown",
   "id": "275b9b4f-2392-4d9f-8dab-3726537a35a8",
   "metadata": {},
   "source": [
    "<b>Hint</b>\n",
    "\n",
    "<tt>\n",
    "<font color=\"green\">\n",
    "__lt__()<br>\n",
    "__le__()<br>\n",
    "__gt__()<br>\n",
    "__ge__()<br>\n",
    "__eq__()<br>\n",
    "__len__()<br>\n",
    "__str__()\n",
    "</font>\n",
    "</tt>"
   ]
  }
 ],
 "metadata": {
  "kernelspec": {
   "display_name": "Python 3 (ipykernel)",
   "language": "python",
   "name": "python3"
  },
  "language_info": {
   "codemirror_mode": {
    "name": "ipython",
    "version": 3
   },
   "file_extension": ".py",
   "mimetype": "text/x-python",
   "name": "python",
   "nbconvert_exporter": "python",
   "pygments_lexer": "ipython3",
   "version": "3.12.11"
  }
 },
 "nbformat": 4,
 "nbformat_minor": 5
}
