{
 "cells": [
  {
   "attachments": {},
   "cell_type": "markdown",
   "id": "48f32076-2e88-4218-b5cb-f1237ae4be0c",
   "metadata": {},
   "source": [
    "# Homework Log Analysis\n",
    "\n",
    "## Tech\n",
    "<ol>\n",
    "    <li type=\"a\">open</li>\n",
    "    <li type=\"a\">if-elif-else</li>\n",
    "    <li type=\"a\">str</li>\n",
    "    <li type=\"a\">f-string</li>\n",
    "</ol>\n",
    "\n",
    "## Tasks\n",
    "讀取 \"goodeploy_log.csv\" 資料，計算各 function 被叫用的次數。輸出的樣式需參閱 Output，項目順序可不同，但格式需完全相同，請注意對齊。<br>\n",
    "\n",
    "## Note\n",
    "<ol>\n",
    "    <li>[CoursesFirestore:get_course] 樣式即為 function name</li>\n",
    "    <li>Function name 需由程式判斷後讀取，不可將如 CoursesFirestore:get_course 等 function name 字樣寫死在程式中。</li>\n",
    "</ol>\n",
    "\n",
    "## Output\n",
    "<tt>\n",
    "CoursesFirestore:get_course &nbsp;&nbsp;&nbsp;&nbsp; 231 times<br>\n",
    "LineUsersFirestore:get_user &nbsp;&nbsp;&nbsp;&nbsp; 108 times<br>\n",
    "CoursesFirestore:get_courses &nbsp;&nbsp;&nbsp;&nbsp; 16 times<br>\n",
    "LineUsersFirestore:increase &nbsp;&nbsp;&nbsp;&nbsp;&nbsp; 93 times<br>\n",
    "LineUsersFirestore:update_user &nbsp;&nbsp; 13 times<br>\n",
    "LineUsersFirestore:meet_criterion &nbsp;3 times<br>\n",
    "CoursesFirestore:__init__ &nbsp;&nbsp;&nbsp;&nbsp;&nbsp;&nbsp;&nbsp;&nbsp; 2 times<br>\n",
    "</tt>"
   ]
  },
  {
   "cell_type": "markdown",
   "id": "31145cf2-7998-42f7-9caf-0d0020d973f1",
   "metadata": {},
   "source": [
    "## Solution"
   ]
  },
  {
   "cell_type": "code",
   "execution_count": null,
   "id": "ce567f05-9097-4514-8725-2179dfba92e8",
   "metadata": {},
   "outputs": [],
   "source": [
    "file = 'goodeploy_log.csv'\n",
    "\n",
    "# read from log and split to list\n",
    "with open(file, 'r', encoding='utf-8') as f:\n",
    "    rows = [r.split(',') for r in f.read().split('\\n')]\n",
    "\n",
    "# count\n",
    "count = {}\n",
    "for r in rows:\n",
    "    if len(r) == 6:\n",
    "        h, t = r[2].find('['), r[2].find(']')\n",
    "        if h == 1 and t > 1 and r[2][1:t].count(':') == 1 and 'total' in r[2][t:]:\n",
    "            name = r[2][h+1:t]\n",
    "            count[name] = count.get(name, 0) + 1\n",
    "\n",
    "# pretty print\n",
    "max_len = max(len(n)+len(str(count[n])) for n in count)\n",
    "for n in count:\n",
    "    print(f'{n}: {count[n]:{max_len-len(n)+2}} times')"
   ]
  },
  {
   "cell_type": "markdown",
   "id": "09e4e74c-9a25-4238-9048-e06bb2690b05",
   "metadata": {},
   "source": [
    "## Advance Solution"
   ]
  },
  {
   "cell_type": "code",
   "execution_count": null,
   "id": "32b398b2-6f9d-40f0-adf6-be8d728920ac",
   "metadata": {},
   "outputs": [],
   "source": [
    "!pip install pandas"
   ]
  },
  {
   "cell_type": "code",
   "execution_count": null,
   "id": "61114a91-3c16-4cc2-8e0f-07fa1cdddc9a",
   "metadata": {},
   "outputs": [],
   "source": [
    "from collections import Counter\n",
    "\n",
    "import pandas as pd\n",
    "\n",
    "file = 'goodeploy_log.csv'\n",
    "df = pd.read_csv(file)\n",
    "x = df['textPayload'][df['textPayload'].fillna('').str.contains('total')].to_list()\n",
    "x = [a.split('[')[1].split(']')[0] for a in x]\n",
    "count = Counter(x)\n",
    "\n",
    "# pretty print\n",
    "max_len = max(len(n)+len(str(count[n])) for n in count)\n",
    "for n in count:\n",
    "    print(f'{n}: {count[n]:{max_len-len(n)+2}} times')"
   ]
  },
  {
   "cell_type": "code",
   "execution_count": null,
   "id": "d271945f-79c5-4783-b74f-ecd3874d2ee6",
   "metadata": {},
   "outputs": [],
   "source": []
  }
 ],
 "metadata": {
  "kernelspec": {
   "display_name": "Python 3 (ipykernel)",
   "language": "python",
   "name": "python3"
  },
  "language_info": {
   "codemirror_mode": {
    "name": "ipython",
    "version": 3
   },
   "file_extension": ".py",
   "mimetype": "text/x-python",
   "name": "python",
   "nbconvert_exporter": "python",
   "pygments_lexer": "ipython3",
   "version": "3.12.11"
  }
 },
 "nbformat": 4,
 "nbformat_minor": 5
}
