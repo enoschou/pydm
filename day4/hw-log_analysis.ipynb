{
 "cells": [
  {
   "attachments": {},
   "cell_type": "markdown",
   "id": "48f32076-2e88-4218-b5cb-f1237ae4be0c",
   "metadata": {},
   "source": [
    "# Homework Log Analysis\n",
    "\n",
    "## Tech\n",
    "<ol>\n",
    "    <li type=\"a\">open</li>\n",
    "    <li type=\"a\">if-elif-else</li>\n",
    "    <li type=\"a\">str</li>\n",
    "    <li type=\"a\">f-string</li>\n",
    "</ol>\n",
    "\n",
    "## Tasks\n",
    "讀取 \"goodeploy_log.csv\" 資料，計算各 function 被叫用的次數。輸出的樣式需參閱 Output，項目順序可不同，但格式需完全相同，請注意對齊。<br>\n",
    "\n",
    "## Note\n",
    "<ol>\n",
    "    <li>[CoursesFirestore:get_course] 樣式即為 function name</li>\n",
    "    <li>Function name 需由程式判斷後讀取，不可將如 CoursesFirestore:get_course 等 function name 字樣寫死在程式中。</li>\n",
    "</ol>\n",
    "\n",
    "## Output\n",
    "<tt>\n",
    "CoursesFirestore:get_course &nbsp;&nbsp;&nbsp;&nbsp; 231 times<br>\n",
    "LineUsersFirestore:get_user &nbsp;&nbsp;&nbsp;&nbsp; 108 times<br>\n",
    "CoursesFirestore:get_courses &nbsp;&nbsp;&nbsp;&nbsp; 16 times<br>\n",
    "LineUsersFirestore:increase &nbsp;&nbsp;&nbsp;&nbsp;&nbsp; 93 times<br>\n",
    "LineUsersFirestore:update_user &nbsp;&nbsp; 13 times<br>\n",
    "LineUsersFirestore:meet_criterion &nbsp;3 times<br>\n",
    "CoursesFirestore:__init__ &nbsp;&nbsp;&nbsp;&nbsp;&nbsp;&nbsp;&nbsp;&nbsp; 2 times<br>\n",
    "</tt>"
   ]
  },
  {
   "cell_type": "code",
   "execution_count": null,
   "id": "04d33fc1-861d-4859-a91a-651e56cfac87",
   "metadata": {},
   "outputs": [],
   "source": []
  }
 ],
 "metadata": {
  "kernelspec": {
   "display_name": "Python 3 (ipykernel)",
   "language": "python",
   "name": "python3"
  },
  "language_info": {
   "codemirror_mode": {
    "name": "ipython",
    "version": 3
   },
   "file_extension": ".py",
   "mimetype": "text/x-python",
   "name": "python",
   "nbconvert_exporter": "python",
   "pygments_lexer": "ipython3",
   "version": "3.8.10"
  }
 },
 "nbformat": 4,
 "nbformat_minor": 5
}
