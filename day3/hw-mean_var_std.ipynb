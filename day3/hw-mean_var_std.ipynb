{
 "cells": [
  {
   "cell_type": "markdown",
   "metadata": {},
   "source": [
    "# Homework Mean/ Var/ Std\n",
    "\n",
    "## Tech\n",
    "\n",
    "for<br>\n",
    "built-in functions<br>\n",
    "escape str<br>\n",
    "f-string\n",
    "\n",
    "## Tasks\n",
    "承 Homework Composite Data Structure，以 dict 建立 10 位學生資料<br>\n",
    "a. 計算每個人的 BMI 並儲存至上述 dict<br>\n",
    "b. 印出上述 dict 內容<br>\n",
    "<tt><font color='blue'>\n",
    "{'Bill': {'bmi': 24.801587301587304, 'h': 168, 'w': 70},<br>\n",
    " 'David': {'bmi': 26.234567901234566, 'h': 180, 'w': 85},<br>\n",
    " 'Elsa': {'bmi': 23.19109461966605, 'h': 154, 'w': 55},<br>\n",
    " 'Golden': {'bmi': 22.275309917355372, 'h': 176, 'w': 69},<br>\n",
    " 'Jason': {'bmi': 23.24598478444632, 'h': 182, 'w': 77},<br>\n",
    " 'John': {'bmi': 24.337479718766904, 'h': 172, 'w': 72},<br>\n",
    " 'Larry': {'bmi': 24.999999999999996, 'h': 160, 'w': 64},<br>\n",
    " 'Lora': {'bmi': 19.140624999999996, 'h': 160, 'w': 49},<br>\n",
    " 'Mary': {'bmi': 20.429418362441915, 'h': 158, 'w': 51},<br>\n",
    " 'Michelle': {'bmi': 23.725286160249738, 'h': 155, 'w': 57}}<br>\n",
    "</font></tt>\n",
    "c. 運用上述 dict 計算並印出所有人平均 BMI、BMI 變異數、BMI 標準差<br>\n",
    "<tt><font color='blue'>\n",
    "mean bmi is 23.238 kg/m²<br>\n",
    "var bmi is 4.158 (kg/m²)²<br>\n",
    "std bmi is 2.039 kg/m²<br>\n",
    "</font></tt>\n",
    "\n",
    "## Data\n",
    "<br>\n",
    "<tt>\n",
    "David&nbsp;&nbsp;&nbsp;&nbsp;180cm 85kg<br>\n",
    "John&nbsp;&nbsp;&nbsp;&nbsp;&nbsp;172cm 72kg<br>\n",
    "Mary&nbsp;&nbsp;&nbsp;&nbsp;&nbsp;158cm 51kg<br>\n",
    "Lora&nbsp;&nbsp;&nbsp;&nbsp;&nbsp;160cm 49kg<br>\n",
    "Bill&nbsp;&nbsp;&nbsp;&nbsp;&nbsp;168cm 70kg<br>\n",
    "Elsa&nbsp;&nbsp;&nbsp;&nbsp;&nbsp;154cm 55kg<br>\n",
    "Golden&nbsp;&nbsp;&nbsp;176cm 69kg<br>\n",
    "Jason&nbsp;&nbsp;&nbsp;&nbsp;182cm 77kg<br>\n",
    "Larry&nbsp;&nbsp;&nbsp;&nbsp;160cm 64kg<br>\n",
    "Michelle 155cm 57kg<br>\n",
    "</tt>"
   ]
  },
  {
   "cell_type": "code",
   "execution_count": 1,
   "metadata": {},
   "outputs": [],
   "source": [
    "\"\"\"\n",
    "original data\n",
    "\"\"\"\n",
    "d = {'David': {'h':180, 'w':85},\n",
    "     'John': {'h':172, 'w':72},\n",
    "     'Mary': {'h':158, 'w':51},\n",
    "     'Lora': {'h':160, 'w':49},\n",
    "     'Bill': {'h':168, 'w':70},\n",
    "     'Elsa': {'h':154, 'w':55},\n",
    "     'Golden': {'h':176, 'w':69},\n",
    "     'Jason': {'h':182, 'w':77},\n",
    "     'Larry': {'h':160, 'w':64},\n",
    "     'Michelle': {'h':155, 'w':57}\n",
    "    }"
   ]
  },
  {
   "cell_type": "markdown",
   "metadata": {},
   "source": [
    "### a. 計算每個人的 BMI 並儲存至上述 dict"
   ]
  },
  {
   "cell_type": "code",
   "execution_count": null,
   "metadata": {},
   "outputs": [],
   "source": []
  },
  {
   "cell_type": "markdown",
   "metadata": {},
   "source": [
    "### b. 印出上述 dict 內容"
   ]
  },
  {
   "cell_type": "code",
   "execution_count": null,
   "metadata": {},
   "outputs": [],
   "source": []
  },
  {
   "cell_type": "markdown",
   "metadata": {},
   "source": [
    "### c. 運用上述 dict 計算並印出所有人平均 BMI、BMI 變異數、BMI 標準差"
   ]
  },
  {
   "cell_type": "code",
   "execution_count": null,
   "metadata": {},
   "outputs": [],
   "source": []
  }
 ],
 "metadata": {
  "kernelspec": {
   "display_name": "Python 3 (ipykernel)",
   "language": "python",
   "name": "python3"
  },
  "language_info": {
   "codemirror_mode": {
    "name": "ipython",
    "version": 3
   },
   "file_extension": ".py",
   "mimetype": "text/x-python",
   "name": "python",
   "nbconvert_exporter": "python",
   "pygments_lexer": "ipython3",
   "version": "3.7.13"
  }
 },
 "nbformat": 4,
 "nbformat_minor": 2
}
